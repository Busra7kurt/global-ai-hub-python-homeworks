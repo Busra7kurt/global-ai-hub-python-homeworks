{
 "cells": [
  {
   "cell_type": "code",
   "execution_count": null,
   "metadata": {},
   "outputs": [],
   "source": [
    "firstname=input(\"Enter your fırst name: \")\n",
    "lastname=input(\"Enter your last name: \")\n",
    "age=int(input(\"Enter your age: \"))\n",
    "bırthyear=input(\"Enter your birth year: \")\n",
    "ınformatıon= [firstname , lastname , age , bırthyear ]\n",
    "print(ınformatıon)\n",
    "if age < 18:\n",
    "    print(\"You can't go out because ıt's too dangerous\")\n",
    "else :\n",
    "    print(\"You can go out to the street\")"
   ]
  }
 ],
 "metadata": {
  "kernelspec": {
   "display_name": "Python 3",
   "language": "python",
   "name": "python3"
  },
  "language_info": {
   "codemirror_mode": {
    "name": "ipython",
    "version": 3
   },
   "file_extension": ".py",
   "mimetype": "text/x-python",
   "name": "python",
   "nbconvert_exporter": "python",
   "pygments_lexer": "ipython3",
   "version": "3.8.5"
  }
 },
 "nbformat": 4,
 "nbformat_minor": 4
}
