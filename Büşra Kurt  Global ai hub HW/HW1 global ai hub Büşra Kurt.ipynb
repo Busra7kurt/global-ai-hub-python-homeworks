{
 "cells": [
  {
   "cell_type": "code",
   "execution_count": null,
   "metadata": {},
   "outputs": [],
   "source": [
    "value1=input(\"Enter fırst value: \")\n",
    "value2=input(\"Enter second value: \")\n",
    "value3=input(\"Enter thırd value: \")\n",
    "value4=input(\"Enter fourth value: \")\n",
    "value5=input(\"Enter fifth value: \")\n",
    "print(value1,value2,value3,value4,value5)\n",
    "print(\"fırst value type\", type(value1))\n",
    "print(\"second value type\", type(value2))\n",
    "print(\"thırd  value type\", type(value3))\n",
    "print(\"fourth value type\", type(value4))\n",
    "print(\"fifth value type\", type(value5))"
   ]
  }
 ],
 "metadata": {
  "kernelspec": {
   "display_name": "Python 3",
   "language": "python",
   "name": "python3"
  },
  "language_info": {
   "codemirror_mode": {
    "name": "ipython",
    "version": 3
   },
   "file_extension": ".py",
   "mimetype": "text/x-python",
   "name": "python",
   "nbconvert_exporter": "python",
   "pygments_lexer": "ipython3",
   "version": "3.8.5"
  }
 },
 "nbformat": 4,
 "nbformat_minor": 4
}
