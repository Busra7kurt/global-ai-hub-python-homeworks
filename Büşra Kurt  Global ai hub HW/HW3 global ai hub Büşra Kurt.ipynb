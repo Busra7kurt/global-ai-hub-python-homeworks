{
 "cells": [
  {
   "cell_type": "code",
   "execution_count": null,
   "metadata": {},
   "outputs": [],
   "source": [
    "name=input(\"Enter your name: \")\n",
    "print(\"Welcome\",name)\n",
    "import random as rnd\n",
    "\n",
    "secret = rnd.randint(1,100)\n",
    "\n",
    "check = False\n",
    "\n",
    "\n",
    "for x in range(5):\n",
    "  guess = int(input(\"Please enter you guess: \"))\n",
    "  if guess == secret:\n",
    "    print(\"Congrats!!\")\n",
    "    check = True\n",
    "    break\n",
    "  elif guess < secret:\n",
    "    print(\"Please enter a bigger number!!\")\n",
    "  else: \n",
    "    print(\"Please enter a smaller number!!\")\n",
    "    \n",
    "if not check:\n",
    "  print(\"Looseer..The number was: \", secret)"
   ]
  }
 ],
 "metadata": {
  "kernelspec": {
   "display_name": "Python 3",
   "language": "python",
   "name": "python3"
  },
  "language_info": {
   "codemirror_mode": {
    "name": "ipython",
    "version": 3
   },
   "file_extension": ".py",
   "mimetype": "text/x-python",
   "name": "python",
   "nbconvert_exporter": "python",
   "pygments_lexer": "ipython3",
   "version": "3.8.5"
  }
 },
 "nbformat": 4,
 "nbformat_minor": 4
}
